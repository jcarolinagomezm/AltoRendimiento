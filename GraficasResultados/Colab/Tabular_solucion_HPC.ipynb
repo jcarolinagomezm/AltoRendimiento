{
  "nbformat": 4,
  "nbformat_minor": 0,
  "metadata": {
    "colab": {
      "provenance": []
    },
    "kernelspec": {
      "name": "python3",
      "display_name": "Python 3"
    },
    "language_info": {
      "name": "python"
    }
  },
  "cells": [
    {
      "cell_type": "markdown",
      "source": [
        "# Tabulación y Gráficas de los Tiempos de Rendmiento de Multiplicación de Matrices Cuadradas.\n",
        "\n",
        "El siguiente código tiene las funciones para realizar la tabulación, procesamiento y generar gráficas de rendmiento de los experimentos realizados."
      ],
      "metadata": {
        "id": "LhpBRKH9pS-Q"
      }
    },
    {
      "cell_type": "code",
      "execution_count": 1,
      "metadata": {
        "id": "Hz0rbWbRBqFG"
      },
      "outputs": [],
      "source": [
        "import pandas as pd\n",
        "import numpy as np\n",
        "from os import listdir, path\n",
        "import matplotlib.pyplot as plt"
      ]
    },
    {
      "cell_type": "markdown",
      "source": [
        "# Read data"
      ],
      "metadata": {
        "id": "r9hrn4kQB7aT"
      }
    },
    {
      "cell_type": "code",
      "source": [
        "# !unrar x '/content/Experimentos_Col.rar'\n",
        "# !unrar x '/content/Experimentos_FilaXFila.rar'"
      ],
      "metadata": {
        "id": "ecXc8NdxB40R"
      },
      "execution_count": null,
      "outputs": []
    },
    {
      "cell_type": "markdown",
      "source": [
        "## Soluciones CPU"
      ],
      "metadata": {
        "id": "S4AvUqaC9C_R"
      }
    },
    {
      "cell_type": "code",
      "source": [
        "# path_data = '/content/Experimentos_Col/Soluciones4CPU/'\n",
        "path_data = '/content/Experimentos_FilaXFila/Soluciones8CPU2/'"
      ],
      "metadata": {
        "id": "XtuxhaXYB4x8"
      },
      "execution_count": 205,
      "outputs": []
    },
    {
      "cell_type": "code",
      "source": [
        "def extract_data(base, variable, posi):\n",
        "  '''\n",
        "  Función para extraer información de las salidas del experimento en cada replica.\n",
        "\n",
        "  base: DataFrame\n",
        "  variable: Nombre de la variable a crear\n",
        "  posi: posición en la lista de la columna 'data', 0 = core; 1=  microseg\n",
        "\n",
        "  Return: base con variable extraida de la variable data.\n",
        "  '''\n",
        "\n",
        "  base[variable] = base['data'].map(lambda x: x.split(':') )\n",
        "  base[variable]  = base[variable].map( lambda x: x[posi].lstrip() if len(x)==2 else np.nan)\n",
        "  base.dropna(inplace=True)\n",
        "\n",
        "  return base"
      ],
      "metadata": {
        "id": "9F4H95DTB4q0"
      },
      "execution_count": 206,
      "outputs": []
    },
    {
      "cell_type": "code",
      "source": [
        "## Extraer data\n",
        "base_MP = pd.DataFrame()\n",
        "\n",
        "for name_file in listdir( path_data ):\n",
        "  print(name_file)\n",
        "  with open(path_data + name_file ) as open_file:\n",
        "    file = open_file.read()\n",
        "\n",
        "  base_i = pd.DataFrame(file.split('\\n'))\n",
        "  base_i.columns = ['data']\n",
        "\n",
        "  #dim de la matriz\n",
        "  base_i['combinacion'] = path.basename(name_file)\n",
        "  base_i['size_matrix'] = path.basename(name_file).split('-')[1][4:]\n",
        "  base_i['cores'] = path.basename(name_file).split('-')[2][-1:]\n",
        "\n",
        "  # extraer data de core y microseg\n",
        "  base_i = extract_data(base_i, 'id_core', 0)\n",
        "  base_i = extract_data(base_i, 'microseg', 1)\n",
        "\n",
        "  open_file.close()\n",
        "\n",
        "  # concat data\n",
        "  base_MP = pd.concat( [base_i,\n",
        "                        base_MP],\n",
        "                       axis=0)\n",
        "\n",
        "base_MP['microseg'] = base_MP['microseg'].astype(int)"
      ],
      "metadata": {
        "id": "eF3Ed2HT5IOk",
        "colab": {
          "base_uri": "https://localhost:8080/"
        },
        "outputId": "c67b49c8-fdbd-494b-af36-61f07d768411"
      },
      "execution_count": 207,
      "outputs": [
        {
          "output_type": "stream",
          "name": "stdout",
          "text": [
            "MM1c-Size200-core8\n",
            "MM1c-Size400-core3\n",
            "MM1c-Size100-core6\n",
            "MM1c-Size200-core3\n",
            "MM1c-Size800-core2\n",
            "MM1c-Size400-core6\n",
            "MM1c-Size400-core5\n",
            "MM1c-Size400-core2\n",
            "MM1c-Size100-core7\n",
            "MM1c-Size400-core4\n",
            "MM1c-Size800-core6\n",
            "MM1c-Size600-core8\n",
            "MM1c-Size400-core8\n",
            "MM1c-Size800-core7\n",
            "MM1c-Size600-core6\n",
            "MM1c-Size200-core7\n",
            "MM1c-Size600-core2\n",
            "MM1c-Size600-core1\n",
            "MM1c-Size100-core8\n",
            "MM1c-Size100-core2\n",
            "MM1c-Size100-core1\n",
            "MM1c-Size200-core5\n",
            "MM1c-Size600-core3\n",
            "MM1c-Size200-core4\n",
            "MM1c-Size200-core1\n",
            "MM1c-Size800-core1\n",
            "MM1c-Size100-core4\n",
            "MM1c-Size200-core2\n",
            "MM1c-Size400-core7\n",
            "MM1c-Size600-core5\n",
            "MM1c-Size800-core5\n",
            "MM1c-Size600-core4\n",
            "MM1c-Size400-core1\n",
            "MM1c-Size200-core6\n",
            "MM1c-Size600-core7\n",
            "MM1c-Size800-core8\n",
            "MM1c-Size800-core3\n",
            "MM1c-Size100-core5\n",
            "MM1c-Size800-core4\n",
            "MM1c-Size100-core3\n"
          ]
        }
      ]
    },
    {
      "cell_type": "code",
      "source": [
        "base_MP.info()"
      ],
      "metadata": {
        "colab": {
          "base_uri": "https://localhost:8080/"
        },
        "id": "jDX_kYbN_vCO",
        "outputId": "01507745-56a3-4306-94d2-616661693e19"
      },
      "execution_count": 208,
      "outputs": [
        {
          "output_type": "stream",
          "name": "stdout",
          "text": [
            "<class 'pandas.core.frame.DataFrame'>\n",
            "Int64Index: 5400 entries, 0 to 239\n",
            "Data columns (total 6 columns):\n",
            " #   Column       Non-Null Count  Dtype \n",
            "---  ------       --------------  ----- \n",
            " 0   data         5400 non-null   object\n",
            " 1   combinacion  5400 non-null   object\n",
            " 2   size_matrix  5400 non-null   object\n",
            " 3   cores        5400 non-null   object\n",
            " 4   id_core      5400 non-null   object\n",
            " 5   microseg     5400 non-null   int64 \n",
            "dtypes: int64(1), object(5)\n",
            "memory usage: 295.3+ KB\n"
          ]
        }
      ]
    },
    {
      "cell_type": "code",
      "source": [
        "len(sorted(base_MP['combinacion'].unique()))"
      ],
      "metadata": {
        "id": "ud5yCSTu_xgH",
        "colab": {
          "base_uri": "https://localhost:8080/"
        },
        "outputId": "72bcd7af-76f3-4d31-a618-146a2bdab0fd"
      },
      "execution_count": 209,
      "outputs": [
        {
          "output_type": "execute_result",
          "data": {
            "text/plain": [
              "40"
            ]
          },
          "metadata": {},
          "execution_count": 209
        }
      ]
    },
    {
      "cell_type": "code",
      "source": [
        "base_MP.shape"
      ],
      "metadata": {
        "colab": {
          "base_uri": "https://localhost:8080/"
        },
        "id": "ltLARSavi6ZM",
        "outputId": "3f5cfd91-6466-4053-baba-c0aa2fe29287"
      },
      "execution_count": 210,
      "outputs": [
        {
          "output_type": "execute_result",
          "data": {
            "text/plain": [
              "(5400, 6)"
            ]
          },
          "metadata": {},
          "execution_count": 210
        }
      ]
    },
    {
      "cell_type": "code",
      "source": [
        "base_MP['cores'].unique()"
      ],
      "metadata": {
        "colab": {
          "base_uri": "https://localhost:8080/"
        },
        "id": "-stZP9O5K4Fo",
        "outputId": "59e439d5-83f4-42ad-adc0-d619c2389378"
      },
      "execution_count": 211,
      "outputs": [
        {
          "output_type": "execute_result",
          "data": {
            "text/plain": [
              "array(['3', '4', '5', '8', '7', '6', '1', '2'], dtype=object)"
            ]
          },
          "metadata": {},
          "execution_count": 211
        }
      ]
    },
    {
      "cell_type": "code",
      "source": [
        "base_MP[  base_MP['combinacion'].str.contains('MM1c-Size100-core') ]['combinacion'].unique()"
      ],
      "metadata": {
        "colab": {
          "base_uri": "https://localhost:8080/"
        },
        "id": "L6F6bdMz-3jC",
        "outputId": "20e5a323-2107-4073-874e-2e9d77f70037"
      },
      "execution_count": 212,
      "outputs": [
        {
          "output_type": "execute_result",
          "data": {
            "text/plain": [
              "array(['MM1c-Size100-core3', 'MM1c-Size100-core5', 'MM1c-Size100-core4',\n",
              "       'MM1c-Size100-core1', 'MM1c-Size100-core2', 'MM1c-Size100-core8',\n",
              "       'MM1c-Size100-core7', 'MM1c-Size100-core6'], dtype=object)"
            ]
          },
          "metadata": {},
          "execution_count": 212
        }
      ]
    },
    {
      "cell_type": "code",
      "source": [
        "base_MP[  base_MP['combinacion'].str.contains('MM1c-Size400-core8') ].shape"
      ],
      "metadata": {
        "colab": {
          "base_uri": "https://localhost:8080/"
        },
        "id": "YfBb_nLymS7E",
        "outputId": "e0a9ea88-60c1-4d97-bdf2-740105474414"
      },
      "execution_count": 213,
      "outputs": [
        {
          "output_type": "execute_result",
          "data": {
            "text/plain": [
              "(240, 6)"
            ]
          },
          "metadata": {},
          "execution_count": 213
        }
      ]
    },
    {
      "cell_type": "code",
      "source": [
        "import pandas as pd\n",
        "pd.options.display.float_format = '{:.4f}'.format"
      ],
      "metadata": {
        "id": "cwySpQM2pCey"
      },
      "execution_count": 214,
      "outputs": []
    },
    {
      "cell_type": "code",
      "source": [
        "## exportar\n",
        "# base_MP.groupby(['size_matrix','cores'])['microseg'].mean().reset_index().sort_values(by=['size_matrix',\n",
        "#                                                                                           'cores'], ascending=True).to_excel('tabla_tiempos promedio_MP.xlsx')"
      ],
      "metadata": {
        "id": "39ainokziLXI"
      },
      "execution_count": 215,
      "outputs": []
    },
    {
      "cell_type": "code",
      "source": [
        "base_MP_groupby  =base_MP.groupby(['size_matrix',\n",
        "                                   'cores'])['microseg'].mean().reset_index().sort_values(by=['size_matrix',\n",
        "                                                                                              'cores'],\n",
        "                                                                                          ascending=True)\n",
        "base_MP_groupby.columns = ['dimension_matriz', 'cores', 'Promedio_microseg']\n",
        "\n",
        "base_MP_groupby.head(20)"
      ],
      "metadata": {
        "colab": {
          "base_uri": "https://localhost:8080/",
          "height": 676
        },
        "id": "rPHgrLkkof_O",
        "outputId": "e31e44f4-cf1c-4739-f224-105050870308"
      },
      "execution_count": 216,
      "outputs": [
        {
          "output_type": "execute_result",
          "data": {
            "text/plain": [
              "   dimension_matriz cores  Promedio_microseg\n",
              "0               100     1          1216.8333\n",
              "1               100     2           685.6333\n",
              "2               100     3           487.6000\n",
              "3               100     4           376.4417\n",
              "4               100     5           347.2400\n",
              "5               100     6           289.5778\n",
              "6               100     7           312.7095\n",
              "7               100     8          1085.3083\n",
              "8               200     1         13691.1333\n",
              "9               200     2          5607.0500\n",
              "10              200     3          3846.5889\n",
              "11              200     4          3221.7833\n",
              "12              200     5          2969.5400\n",
              "13              200     6          2849.4778\n",
              "14              200     7          3560.8952\n",
              "15              200     8          4083.9375\n",
              "16              400     1        103480.9000\n",
              "17              400     2         52857.6500\n",
              "18              400     3         38739.8778\n",
              "19              400     4         29991.1167"
            ],
            "text/html": [
              "\n",
              "  <div id=\"df-b80f03be-de67-4edb-bd7f-079d0cec5143\" class=\"colab-df-container\">\n",
              "    <div>\n",
              "<style scoped>\n",
              "    .dataframe tbody tr th:only-of-type {\n",
              "        vertical-align: middle;\n",
              "    }\n",
              "\n",
              "    .dataframe tbody tr th {\n",
              "        vertical-align: top;\n",
              "    }\n",
              "\n",
              "    .dataframe thead th {\n",
              "        text-align: right;\n",
              "    }\n",
              "</style>\n",
              "<table border=\"1\" class=\"dataframe\">\n",
              "  <thead>\n",
              "    <tr style=\"text-align: right;\">\n",
              "      <th></th>\n",
              "      <th>dimension_matriz</th>\n",
              "      <th>cores</th>\n",
              "      <th>Promedio_microseg</th>\n",
              "    </tr>\n",
              "  </thead>\n",
              "  <tbody>\n",
              "    <tr>\n",
              "      <th>0</th>\n",
              "      <td>100</td>\n",
              "      <td>1</td>\n",
              "      <td>1216.8333</td>\n",
              "    </tr>\n",
              "    <tr>\n",
              "      <th>1</th>\n",
              "      <td>100</td>\n",
              "      <td>2</td>\n",
              "      <td>685.6333</td>\n",
              "    </tr>\n",
              "    <tr>\n",
              "      <th>2</th>\n",
              "      <td>100</td>\n",
              "      <td>3</td>\n",
              "      <td>487.6000</td>\n",
              "    </tr>\n",
              "    <tr>\n",
              "      <th>3</th>\n",
              "      <td>100</td>\n",
              "      <td>4</td>\n",
              "      <td>376.4417</td>\n",
              "    </tr>\n",
              "    <tr>\n",
              "      <th>4</th>\n",
              "      <td>100</td>\n",
              "      <td>5</td>\n",
              "      <td>347.2400</td>\n",
              "    </tr>\n",
              "    <tr>\n",
              "      <th>5</th>\n",
              "      <td>100</td>\n",
              "      <td>6</td>\n",
              "      <td>289.5778</td>\n",
              "    </tr>\n",
              "    <tr>\n",
              "      <th>6</th>\n",
              "      <td>100</td>\n",
              "      <td>7</td>\n",
              "      <td>312.7095</td>\n",
              "    </tr>\n",
              "    <tr>\n",
              "      <th>7</th>\n",
              "      <td>100</td>\n",
              "      <td>8</td>\n",
              "      <td>1085.3083</td>\n",
              "    </tr>\n",
              "    <tr>\n",
              "      <th>8</th>\n",
              "      <td>200</td>\n",
              "      <td>1</td>\n",
              "      <td>13691.1333</td>\n",
              "    </tr>\n",
              "    <tr>\n",
              "      <th>9</th>\n",
              "      <td>200</td>\n",
              "      <td>2</td>\n",
              "      <td>5607.0500</td>\n",
              "    </tr>\n",
              "    <tr>\n",
              "      <th>10</th>\n",
              "      <td>200</td>\n",
              "      <td>3</td>\n",
              "      <td>3846.5889</td>\n",
              "    </tr>\n",
              "    <tr>\n",
              "      <th>11</th>\n",
              "      <td>200</td>\n",
              "      <td>4</td>\n",
              "      <td>3221.7833</td>\n",
              "    </tr>\n",
              "    <tr>\n",
              "      <th>12</th>\n",
              "      <td>200</td>\n",
              "      <td>5</td>\n",
              "      <td>2969.5400</td>\n",
              "    </tr>\n",
              "    <tr>\n",
              "      <th>13</th>\n",
              "      <td>200</td>\n",
              "      <td>6</td>\n",
              "      <td>2849.4778</td>\n",
              "    </tr>\n",
              "    <tr>\n",
              "      <th>14</th>\n",
              "      <td>200</td>\n",
              "      <td>7</td>\n",
              "      <td>3560.8952</td>\n",
              "    </tr>\n",
              "    <tr>\n",
              "      <th>15</th>\n",
              "      <td>200</td>\n",
              "      <td>8</td>\n",
              "      <td>4083.9375</td>\n",
              "    </tr>\n",
              "    <tr>\n",
              "      <th>16</th>\n",
              "      <td>400</td>\n",
              "      <td>1</td>\n",
              "      <td>103480.9000</td>\n",
              "    </tr>\n",
              "    <tr>\n",
              "      <th>17</th>\n",
              "      <td>400</td>\n",
              "      <td>2</td>\n",
              "      <td>52857.6500</td>\n",
              "    </tr>\n",
              "    <tr>\n",
              "      <th>18</th>\n",
              "      <td>400</td>\n",
              "      <td>3</td>\n",
              "      <td>38739.8778</td>\n",
              "    </tr>\n",
              "    <tr>\n",
              "      <th>19</th>\n",
              "      <td>400</td>\n",
              "      <td>4</td>\n",
              "      <td>29991.1167</td>\n",
              "    </tr>\n",
              "  </tbody>\n",
              "</table>\n",
              "</div>\n",
              "    <div class=\"colab-df-buttons\">\n",
              "\n",
              "  <div class=\"colab-df-container\">\n",
              "    <button class=\"colab-df-convert\" onclick=\"convertToInteractive('df-b80f03be-de67-4edb-bd7f-079d0cec5143')\"\n",
              "            title=\"Convert this dataframe to an interactive table.\"\n",
              "            style=\"display:none;\">\n",
              "\n",
              "  <svg xmlns=\"http://www.w3.org/2000/svg\" height=\"24px\" viewBox=\"0 -960 960 960\">\n",
              "    <path d=\"M120-120v-720h720v720H120Zm60-500h600v-160H180v160Zm220 220h160v-160H400v160Zm0 220h160v-160H400v160ZM180-400h160v-160H180v160Zm440 0h160v-160H620v160ZM180-180h160v-160H180v160Zm440 0h160v-160H620v160Z\"/>\n",
              "  </svg>\n",
              "    </button>\n",
              "\n",
              "  <style>\n",
              "    .colab-df-container {\n",
              "      display:flex;\n",
              "      gap: 12px;\n",
              "    }\n",
              "\n",
              "    .colab-df-convert {\n",
              "      background-color: #E8F0FE;\n",
              "      border: none;\n",
              "      border-radius: 50%;\n",
              "      cursor: pointer;\n",
              "      display: none;\n",
              "      fill: #1967D2;\n",
              "      height: 32px;\n",
              "      padding: 0 0 0 0;\n",
              "      width: 32px;\n",
              "    }\n",
              "\n",
              "    .colab-df-convert:hover {\n",
              "      background-color: #E2EBFA;\n",
              "      box-shadow: 0px 1px 2px rgba(60, 64, 67, 0.3), 0px 1px 3px 1px rgba(60, 64, 67, 0.15);\n",
              "      fill: #174EA6;\n",
              "    }\n",
              "\n",
              "    .colab-df-buttons div {\n",
              "      margin-bottom: 4px;\n",
              "    }\n",
              "\n",
              "    [theme=dark] .colab-df-convert {\n",
              "      background-color: #3B4455;\n",
              "      fill: #D2E3FC;\n",
              "    }\n",
              "\n",
              "    [theme=dark] .colab-df-convert:hover {\n",
              "      background-color: #434B5C;\n",
              "      box-shadow: 0px 1px 3px 1px rgba(0, 0, 0, 0.15);\n",
              "      filter: drop-shadow(0px 1px 2px rgba(0, 0, 0, 0.3));\n",
              "      fill: #FFFFFF;\n",
              "    }\n",
              "  </style>\n",
              "\n",
              "    <script>\n",
              "      const buttonEl =\n",
              "        document.querySelector('#df-b80f03be-de67-4edb-bd7f-079d0cec5143 button.colab-df-convert');\n",
              "      buttonEl.style.display =\n",
              "        google.colab.kernel.accessAllowed ? 'block' : 'none';\n",
              "\n",
              "      async function convertToInteractive(key) {\n",
              "        const element = document.querySelector('#df-b80f03be-de67-4edb-bd7f-079d0cec5143');\n",
              "        const dataTable =\n",
              "          await google.colab.kernel.invokeFunction('convertToInteractive',\n",
              "                                                    [key], {});\n",
              "        if (!dataTable) return;\n",
              "\n",
              "        const docLinkHtml = 'Like what you see? Visit the ' +\n",
              "          '<a target=\"_blank\" href=https://colab.research.google.com/notebooks/data_table.ipynb>data table notebook</a>'\n",
              "          + ' to learn more about interactive tables.';\n",
              "        element.innerHTML = '';\n",
              "        dataTable['output_type'] = 'display_data';\n",
              "        await google.colab.output.renderOutput(dataTable, element);\n",
              "        const docLink = document.createElement('div');\n",
              "        docLink.innerHTML = docLinkHtml;\n",
              "        element.appendChild(docLink);\n",
              "      }\n",
              "    </script>\n",
              "  </div>\n",
              "\n",
              "\n",
              "<div id=\"df-a2e1a450-7248-498f-9205-be2a973d0668\">\n",
              "  <button class=\"colab-df-quickchart\" onclick=\"quickchart('df-a2e1a450-7248-498f-9205-be2a973d0668')\"\n",
              "            title=\"Suggest charts\"\n",
              "            style=\"display:none;\">\n",
              "\n",
              "<svg xmlns=\"http://www.w3.org/2000/svg\" height=\"24px\"viewBox=\"0 0 24 24\"\n",
              "     width=\"24px\">\n",
              "    <g>\n",
              "        <path d=\"M19 3H5c-1.1 0-2 .9-2 2v14c0 1.1.9 2 2 2h14c1.1 0 2-.9 2-2V5c0-1.1-.9-2-2-2zM9 17H7v-7h2v7zm4 0h-2V7h2v10zm4 0h-2v-4h2v4z\"/>\n",
              "    </g>\n",
              "</svg>\n",
              "  </button>\n",
              "\n",
              "<style>\n",
              "  .colab-df-quickchart {\n",
              "      --bg-color: #E8F0FE;\n",
              "      --fill-color: #1967D2;\n",
              "      --hover-bg-color: #E2EBFA;\n",
              "      --hover-fill-color: #174EA6;\n",
              "      --disabled-fill-color: #AAA;\n",
              "      --disabled-bg-color: #DDD;\n",
              "  }\n",
              "\n",
              "  [theme=dark] .colab-df-quickchart {\n",
              "      --bg-color: #3B4455;\n",
              "      --fill-color: #D2E3FC;\n",
              "      --hover-bg-color: #434B5C;\n",
              "      --hover-fill-color: #FFFFFF;\n",
              "      --disabled-bg-color: #3B4455;\n",
              "      --disabled-fill-color: #666;\n",
              "  }\n",
              "\n",
              "  .colab-df-quickchart {\n",
              "    background-color: var(--bg-color);\n",
              "    border: none;\n",
              "    border-radius: 50%;\n",
              "    cursor: pointer;\n",
              "    display: none;\n",
              "    fill: var(--fill-color);\n",
              "    height: 32px;\n",
              "    padding: 0;\n",
              "    width: 32px;\n",
              "  }\n",
              "\n",
              "  .colab-df-quickchart:hover {\n",
              "    background-color: var(--hover-bg-color);\n",
              "    box-shadow: 0 1px 2px rgba(60, 64, 67, 0.3), 0 1px 3px 1px rgba(60, 64, 67, 0.15);\n",
              "    fill: var(--button-hover-fill-color);\n",
              "  }\n",
              "\n",
              "  .colab-df-quickchart-complete:disabled,\n",
              "  .colab-df-quickchart-complete:disabled:hover {\n",
              "    background-color: var(--disabled-bg-color);\n",
              "    fill: var(--disabled-fill-color);\n",
              "    box-shadow: none;\n",
              "  }\n",
              "\n",
              "  .colab-df-spinner {\n",
              "    border: 2px solid var(--fill-color);\n",
              "    border-color: transparent;\n",
              "    border-bottom-color: var(--fill-color);\n",
              "    animation:\n",
              "      spin 1s steps(1) infinite;\n",
              "  }\n",
              "\n",
              "  @keyframes spin {\n",
              "    0% {\n",
              "      border-color: transparent;\n",
              "      border-bottom-color: var(--fill-color);\n",
              "      border-left-color: var(--fill-color);\n",
              "    }\n",
              "    20% {\n",
              "      border-color: transparent;\n",
              "      border-left-color: var(--fill-color);\n",
              "      border-top-color: var(--fill-color);\n",
              "    }\n",
              "    30% {\n",
              "      border-color: transparent;\n",
              "      border-left-color: var(--fill-color);\n",
              "      border-top-color: var(--fill-color);\n",
              "      border-right-color: var(--fill-color);\n",
              "    }\n",
              "    40% {\n",
              "      border-color: transparent;\n",
              "      border-right-color: var(--fill-color);\n",
              "      border-top-color: var(--fill-color);\n",
              "    }\n",
              "    60% {\n",
              "      border-color: transparent;\n",
              "      border-right-color: var(--fill-color);\n",
              "    }\n",
              "    80% {\n",
              "      border-color: transparent;\n",
              "      border-right-color: var(--fill-color);\n",
              "      border-bottom-color: var(--fill-color);\n",
              "    }\n",
              "    90% {\n",
              "      border-color: transparent;\n",
              "      border-bottom-color: var(--fill-color);\n",
              "    }\n",
              "  }\n",
              "</style>\n",
              "\n",
              "  <script>\n",
              "    async function quickchart(key) {\n",
              "      const quickchartButtonEl =\n",
              "        document.querySelector('#' + key + ' button');\n",
              "      quickchartButtonEl.disabled = true;  // To prevent multiple clicks.\n",
              "      quickchartButtonEl.classList.add('colab-df-spinner');\n",
              "      try {\n",
              "        const charts = await google.colab.kernel.invokeFunction(\n",
              "            'suggestCharts', [key], {});\n",
              "      } catch (error) {\n",
              "        console.error('Error during call to suggestCharts:', error);\n",
              "      }\n",
              "      quickchartButtonEl.classList.remove('colab-df-spinner');\n",
              "      quickchartButtonEl.classList.add('colab-df-quickchart-complete');\n",
              "    }\n",
              "    (() => {\n",
              "      let quickchartButtonEl =\n",
              "        document.querySelector('#df-a2e1a450-7248-498f-9205-be2a973d0668 button');\n",
              "      quickchartButtonEl.style.display =\n",
              "        google.colab.kernel.accessAllowed ? 'block' : 'none';\n",
              "    })();\n",
              "  </script>\n",
              "</div>\n",
              "    </div>\n",
              "  </div>\n"
            ]
          },
          "metadata": {},
          "execution_count": 216
        }
      ]
    },
    {
      "cell_type": "code",
      "source": [
        "base_MP_groupby['dimension_matriz'] = base_MP_groupby['dimension_matriz'].astype(str)\n",
        "base_MP_groupby['cores'] = base_MP_groupby['cores'].astype(int)\n",
        "base_MP_groupby.info()"
      ],
      "metadata": {
        "colab": {
          "base_uri": "https://localhost:8080/"
        },
        "id": "l_QzXXmbMjpw",
        "outputId": "c898bff8-b1cc-4636-8149-0b2d4122f745"
      },
      "execution_count": 217,
      "outputs": [
        {
          "output_type": "stream",
          "name": "stdout",
          "text": [
            "<class 'pandas.core.frame.DataFrame'>\n",
            "Int64Index: 40 entries, 0 to 39\n",
            "Data columns (total 3 columns):\n",
            " #   Column             Non-Null Count  Dtype  \n",
            "---  ------             --------------  -----  \n",
            " 0   dimension_matriz   40 non-null     object \n",
            " 1   cores              40 non-null     int64  \n",
            " 2   Promedio_microseg  40 non-null     float64\n",
            "dtypes: float64(1), int64(1), object(1)\n",
            "memory usage: 1.2+ KB\n"
          ]
        }
      ]
    },
    {
      "cell_type": "code",
      "source": [
        "### construir Spped_up absoluto  tiempo con 1 core/ tiempo con n\n",
        "\n",
        "for size in  base_MP_groupby['dimension_matriz'].unique().tolist():\n",
        "  time_1 = base_MP_groupby.loc[(base_MP_groupby['dimension_matriz'] ==size)  & (base_MP_groupby['cores'] ==1),'Promedio_microseg'].values\n",
        "  print(size)\n",
        "\n",
        "  for core_i in base_MP_groupby['cores'].unique().tolist():\n",
        "    base_MP_groupby.loc[(base_MP_groupby['dimension_matriz'] ==size) &\n",
        "                         (base_MP_groupby['cores'] ==core_i),\n",
        "                                                          'time_core1'] = time_1\n",
        "\n",
        "base_MP_groupby['Speed_Up_Abs'] = base_MP_groupby['time_core1']/base_MP_groupby['Promedio_microseg']\n",
        "\n",
        "base_MP_groupby.head(15)"
      ],
      "metadata": {
        "colab": {
          "base_uri": "https://localhost:8080/",
          "height": 611
        },
        "id": "K5sR8ttQbUy0",
        "outputId": "a60390e4-1fdd-45d8-9e96-45be4fc3189c"
      },
      "execution_count": 218,
      "outputs": [
        {
          "output_type": "stream",
          "name": "stdout",
          "text": [
            "100\n",
            "200\n",
            "400\n",
            "600\n",
            "800\n"
          ]
        },
        {
          "output_type": "execute_result",
          "data": {
            "text/plain": [
              "   dimension_matriz  cores  Promedio_microseg  time_core1  Speed_Up_Abs\n",
              "0               100      1          1216.8333   1216.8333        1.0000\n",
              "1               100      2           685.6333   1216.8333        1.7748\n",
              "2               100      3           487.6000   1216.8333        2.4956\n",
              "3               100      4           376.4417   1216.8333        3.2325\n",
              "4               100      5           347.2400   1216.8333        3.5043\n",
              "5               100      6           289.5778   1216.8333        4.2021\n",
              "6               100      7           312.7095   1216.8333        3.8913\n",
              "7               100      8          1085.3083   1216.8333        1.1212\n",
              "8               200      1         13691.1333  13691.1333        1.0000\n",
              "9               200      2          5607.0500  13691.1333        2.4418\n",
              "10              200      3          3846.5889  13691.1333        3.5593\n",
              "11              200      4          3221.7833  13691.1333        4.2496\n",
              "12              200      5          2969.5400  13691.1333        4.6105\n",
              "13              200      6          2849.4778  13691.1333        4.8048\n",
              "14              200      7          3560.8952  13691.1333        3.8449"
            ],
            "text/html": [
              "\n",
              "  <div id=\"df-879121f6-41ac-46a9-9855-6c0a3a85deaf\" class=\"colab-df-container\">\n",
              "    <div>\n",
              "<style scoped>\n",
              "    .dataframe tbody tr th:only-of-type {\n",
              "        vertical-align: middle;\n",
              "    }\n",
              "\n",
              "    .dataframe tbody tr th {\n",
              "        vertical-align: top;\n",
              "    }\n",
              "\n",
              "    .dataframe thead th {\n",
              "        text-align: right;\n",
              "    }\n",
              "</style>\n",
              "<table border=\"1\" class=\"dataframe\">\n",
              "  <thead>\n",
              "    <tr style=\"text-align: right;\">\n",
              "      <th></th>\n",
              "      <th>dimension_matriz</th>\n",
              "      <th>cores</th>\n",
              "      <th>Promedio_microseg</th>\n",
              "      <th>time_core1</th>\n",
              "      <th>Speed_Up_Abs</th>\n",
              "    </tr>\n",
              "  </thead>\n",
              "  <tbody>\n",
              "    <tr>\n",
              "      <th>0</th>\n",
              "      <td>100</td>\n",
              "      <td>1</td>\n",
              "      <td>1216.8333</td>\n",
              "      <td>1216.8333</td>\n",
              "      <td>1.0000</td>\n",
              "    </tr>\n",
              "    <tr>\n",
              "      <th>1</th>\n",
              "      <td>100</td>\n",
              "      <td>2</td>\n",
              "      <td>685.6333</td>\n",
              "      <td>1216.8333</td>\n",
              "      <td>1.7748</td>\n",
              "    </tr>\n",
              "    <tr>\n",
              "      <th>2</th>\n",
              "      <td>100</td>\n",
              "      <td>3</td>\n",
              "      <td>487.6000</td>\n",
              "      <td>1216.8333</td>\n",
              "      <td>2.4956</td>\n",
              "    </tr>\n",
              "    <tr>\n",
              "      <th>3</th>\n",
              "      <td>100</td>\n",
              "      <td>4</td>\n",
              "      <td>376.4417</td>\n",
              "      <td>1216.8333</td>\n",
              "      <td>3.2325</td>\n",
              "    </tr>\n",
              "    <tr>\n",
              "      <th>4</th>\n",
              "      <td>100</td>\n",
              "      <td>5</td>\n",
              "      <td>347.2400</td>\n",
              "      <td>1216.8333</td>\n",
              "      <td>3.5043</td>\n",
              "    </tr>\n",
              "    <tr>\n",
              "      <th>5</th>\n",
              "      <td>100</td>\n",
              "      <td>6</td>\n",
              "      <td>289.5778</td>\n",
              "      <td>1216.8333</td>\n",
              "      <td>4.2021</td>\n",
              "    </tr>\n",
              "    <tr>\n",
              "      <th>6</th>\n",
              "      <td>100</td>\n",
              "      <td>7</td>\n",
              "      <td>312.7095</td>\n",
              "      <td>1216.8333</td>\n",
              "      <td>3.8913</td>\n",
              "    </tr>\n",
              "    <tr>\n",
              "      <th>7</th>\n",
              "      <td>100</td>\n",
              "      <td>8</td>\n",
              "      <td>1085.3083</td>\n",
              "      <td>1216.8333</td>\n",
              "      <td>1.1212</td>\n",
              "    </tr>\n",
              "    <tr>\n",
              "      <th>8</th>\n",
              "      <td>200</td>\n",
              "      <td>1</td>\n",
              "      <td>13691.1333</td>\n",
              "      <td>13691.1333</td>\n",
              "      <td>1.0000</td>\n",
              "    </tr>\n",
              "    <tr>\n",
              "      <th>9</th>\n",
              "      <td>200</td>\n",
              "      <td>2</td>\n",
              "      <td>5607.0500</td>\n",
              "      <td>13691.1333</td>\n",
              "      <td>2.4418</td>\n",
              "    </tr>\n",
              "    <tr>\n",
              "      <th>10</th>\n",
              "      <td>200</td>\n",
              "      <td>3</td>\n",
              "      <td>3846.5889</td>\n",
              "      <td>13691.1333</td>\n",
              "      <td>3.5593</td>\n",
              "    </tr>\n",
              "    <tr>\n",
              "      <th>11</th>\n",
              "      <td>200</td>\n",
              "      <td>4</td>\n",
              "      <td>3221.7833</td>\n",
              "      <td>13691.1333</td>\n",
              "      <td>4.2496</td>\n",
              "    </tr>\n",
              "    <tr>\n",
              "      <th>12</th>\n",
              "      <td>200</td>\n",
              "      <td>5</td>\n",
              "      <td>2969.5400</td>\n",
              "      <td>13691.1333</td>\n",
              "      <td>4.6105</td>\n",
              "    </tr>\n",
              "    <tr>\n",
              "      <th>13</th>\n",
              "      <td>200</td>\n",
              "      <td>6</td>\n",
              "      <td>2849.4778</td>\n",
              "      <td>13691.1333</td>\n",
              "      <td>4.8048</td>\n",
              "    </tr>\n",
              "    <tr>\n",
              "      <th>14</th>\n",
              "      <td>200</td>\n",
              "      <td>7</td>\n",
              "      <td>3560.8952</td>\n",
              "      <td>13691.1333</td>\n",
              "      <td>3.8449</td>\n",
              "    </tr>\n",
              "  </tbody>\n",
              "</table>\n",
              "</div>\n",
              "    <div class=\"colab-df-buttons\">\n",
              "\n",
              "  <div class=\"colab-df-container\">\n",
              "    <button class=\"colab-df-convert\" onclick=\"convertToInteractive('df-879121f6-41ac-46a9-9855-6c0a3a85deaf')\"\n",
              "            title=\"Convert this dataframe to an interactive table.\"\n",
              "            style=\"display:none;\">\n",
              "\n",
              "  <svg xmlns=\"http://www.w3.org/2000/svg\" height=\"24px\" viewBox=\"0 -960 960 960\">\n",
              "    <path d=\"M120-120v-720h720v720H120Zm60-500h600v-160H180v160Zm220 220h160v-160H400v160Zm0 220h160v-160H400v160ZM180-400h160v-160H180v160Zm440 0h160v-160H620v160ZM180-180h160v-160H180v160Zm440 0h160v-160H620v160Z\"/>\n",
              "  </svg>\n",
              "    </button>\n",
              "\n",
              "  <style>\n",
              "    .colab-df-container {\n",
              "      display:flex;\n",
              "      gap: 12px;\n",
              "    }\n",
              "\n",
              "    .colab-df-convert {\n",
              "      background-color: #E8F0FE;\n",
              "      border: none;\n",
              "      border-radius: 50%;\n",
              "      cursor: pointer;\n",
              "      display: none;\n",
              "      fill: #1967D2;\n",
              "      height: 32px;\n",
              "      padding: 0 0 0 0;\n",
              "      width: 32px;\n",
              "    }\n",
              "\n",
              "    .colab-df-convert:hover {\n",
              "      background-color: #E2EBFA;\n",
              "      box-shadow: 0px 1px 2px rgba(60, 64, 67, 0.3), 0px 1px 3px 1px rgba(60, 64, 67, 0.15);\n",
              "      fill: #174EA6;\n",
              "    }\n",
              "\n",
              "    .colab-df-buttons div {\n",
              "      margin-bottom: 4px;\n",
              "    }\n",
              "\n",
              "    [theme=dark] .colab-df-convert {\n",
              "      background-color: #3B4455;\n",
              "      fill: #D2E3FC;\n",
              "    }\n",
              "\n",
              "    [theme=dark] .colab-df-convert:hover {\n",
              "      background-color: #434B5C;\n",
              "      box-shadow: 0px 1px 3px 1px rgba(0, 0, 0, 0.15);\n",
              "      filter: drop-shadow(0px 1px 2px rgba(0, 0, 0, 0.3));\n",
              "      fill: #FFFFFF;\n",
              "    }\n",
              "  </style>\n",
              "\n",
              "    <script>\n",
              "      const buttonEl =\n",
              "        document.querySelector('#df-879121f6-41ac-46a9-9855-6c0a3a85deaf button.colab-df-convert');\n",
              "      buttonEl.style.display =\n",
              "        google.colab.kernel.accessAllowed ? 'block' : 'none';\n",
              "\n",
              "      async function convertToInteractive(key) {\n",
              "        const element = document.querySelector('#df-879121f6-41ac-46a9-9855-6c0a3a85deaf');\n",
              "        const dataTable =\n",
              "          await google.colab.kernel.invokeFunction('convertToInteractive',\n",
              "                                                    [key], {});\n",
              "        if (!dataTable) return;\n",
              "\n",
              "        const docLinkHtml = 'Like what you see? Visit the ' +\n",
              "          '<a target=\"_blank\" href=https://colab.research.google.com/notebooks/data_table.ipynb>data table notebook</a>'\n",
              "          + ' to learn more about interactive tables.';\n",
              "        element.innerHTML = '';\n",
              "        dataTable['output_type'] = 'display_data';\n",
              "        await google.colab.output.renderOutput(dataTable, element);\n",
              "        const docLink = document.createElement('div');\n",
              "        docLink.innerHTML = docLinkHtml;\n",
              "        element.appendChild(docLink);\n",
              "      }\n",
              "    </script>\n",
              "  </div>\n",
              "\n",
              "\n",
              "<div id=\"df-c1166243-a34d-4ec2-a2b3-07c3a4545dbc\">\n",
              "  <button class=\"colab-df-quickchart\" onclick=\"quickchart('df-c1166243-a34d-4ec2-a2b3-07c3a4545dbc')\"\n",
              "            title=\"Suggest charts\"\n",
              "            style=\"display:none;\">\n",
              "\n",
              "<svg xmlns=\"http://www.w3.org/2000/svg\" height=\"24px\"viewBox=\"0 0 24 24\"\n",
              "     width=\"24px\">\n",
              "    <g>\n",
              "        <path d=\"M19 3H5c-1.1 0-2 .9-2 2v14c0 1.1.9 2 2 2h14c1.1 0 2-.9 2-2V5c0-1.1-.9-2-2-2zM9 17H7v-7h2v7zm4 0h-2V7h2v10zm4 0h-2v-4h2v4z\"/>\n",
              "    </g>\n",
              "</svg>\n",
              "  </button>\n",
              "\n",
              "<style>\n",
              "  .colab-df-quickchart {\n",
              "      --bg-color: #E8F0FE;\n",
              "      --fill-color: #1967D2;\n",
              "      --hover-bg-color: #E2EBFA;\n",
              "      --hover-fill-color: #174EA6;\n",
              "      --disabled-fill-color: #AAA;\n",
              "      --disabled-bg-color: #DDD;\n",
              "  }\n",
              "\n",
              "  [theme=dark] .colab-df-quickchart {\n",
              "      --bg-color: #3B4455;\n",
              "      --fill-color: #D2E3FC;\n",
              "      --hover-bg-color: #434B5C;\n",
              "      --hover-fill-color: #FFFFFF;\n",
              "      --disabled-bg-color: #3B4455;\n",
              "      --disabled-fill-color: #666;\n",
              "  }\n",
              "\n",
              "  .colab-df-quickchart {\n",
              "    background-color: var(--bg-color);\n",
              "    border: none;\n",
              "    border-radius: 50%;\n",
              "    cursor: pointer;\n",
              "    display: none;\n",
              "    fill: var(--fill-color);\n",
              "    height: 32px;\n",
              "    padding: 0;\n",
              "    width: 32px;\n",
              "  }\n",
              "\n",
              "  .colab-df-quickchart:hover {\n",
              "    background-color: var(--hover-bg-color);\n",
              "    box-shadow: 0 1px 2px rgba(60, 64, 67, 0.3), 0 1px 3px 1px rgba(60, 64, 67, 0.15);\n",
              "    fill: var(--button-hover-fill-color);\n",
              "  }\n",
              "\n",
              "  .colab-df-quickchart-complete:disabled,\n",
              "  .colab-df-quickchart-complete:disabled:hover {\n",
              "    background-color: var(--disabled-bg-color);\n",
              "    fill: var(--disabled-fill-color);\n",
              "    box-shadow: none;\n",
              "  }\n",
              "\n",
              "  .colab-df-spinner {\n",
              "    border: 2px solid var(--fill-color);\n",
              "    border-color: transparent;\n",
              "    border-bottom-color: var(--fill-color);\n",
              "    animation:\n",
              "      spin 1s steps(1) infinite;\n",
              "  }\n",
              "\n",
              "  @keyframes spin {\n",
              "    0% {\n",
              "      border-color: transparent;\n",
              "      border-bottom-color: var(--fill-color);\n",
              "      border-left-color: var(--fill-color);\n",
              "    }\n",
              "    20% {\n",
              "      border-color: transparent;\n",
              "      border-left-color: var(--fill-color);\n",
              "      border-top-color: var(--fill-color);\n",
              "    }\n",
              "    30% {\n",
              "      border-color: transparent;\n",
              "      border-left-color: var(--fill-color);\n",
              "      border-top-color: var(--fill-color);\n",
              "      border-right-color: var(--fill-color);\n",
              "    }\n",
              "    40% {\n",
              "      border-color: transparent;\n",
              "      border-right-color: var(--fill-color);\n",
              "      border-top-color: var(--fill-color);\n",
              "    }\n",
              "    60% {\n",
              "      border-color: transparent;\n",
              "      border-right-color: var(--fill-color);\n",
              "    }\n",
              "    80% {\n",
              "      border-color: transparent;\n",
              "      border-right-color: var(--fill-color);\n",
              "      border-bottom-color: var(--fill-color);\n",
              "    }\n",
              "    90% {\n",
              "      border-color: transparent;\n",
              "      border-bottom-color: var(--fill-color);\n",
              "    }\n",
              "  }\n",
              "</style>\n",
              "\n",
              "  <script>\n",
              "    async function quickchart(key) {\n",
              "      const quickchartButtonEl =\n",
              "        document.querySelector('#' + key + ' button');\n",
              "      quickchartButtonEl.disabled = true;  // To prevent multiple clicks.\n",
              "      quickchartButtonEl.classList.add('colab-df-spinner');\n",
              "      try {\n",
              "        const charts = await google.colab.kernel.invokeFunction(\n",
              "            'suggestCharts', [key], {});\n",
              "      } catch (error) {\n",
              "        console.error('Error during call to suggestCharts:', error);\n",
              "      }\n",
              "      quickchartButtonEl.classList.remove('colab-df-spinner');\n",
              "      quickchartButtonEl.classList.add('colab-df-quickchart-complete');\n",
              "    }\n",
              "    (() => {\n",
              "      let quickchartButtonEl =\n",
              "        document.querySelector('#df-c1166243-a34d-4ec2-a2b3-07c3a4545dbc button');\n",
              "      quickchartButtonEl.style.display =\n",
              "        google.colab.kernel.accessAllowed ? 'block' : 'none';\n",
              "    })();\n",
              "  </script>\n",
              "</div>\n",
              "    </div>\n",
              "  </div>\n"
            ]
          },
          "metadata": {},
          "execution_count": 218
        }
      ]
    },
    {
      "cell_type": "code",
      "source": [
        "lista_microseg_size = [ base_MP_groupby[base_MP_groupby['dimension_matriz'] ==size]['Speed_Up_Abs'].tolist() for size in  base_MP_groupby['dimension_matriz'].unique().tolist() ]\n",
        "len(lista_microseg_size)"
      ],
      "metadata": {
        "id": "Y27RpMFYbYEC",
        "colab": {
          "base_uri": "https://localhost:8080/"
        },
        "outputId": "9d1aab93-a282-42d3-cc3e-b6fa1024808b"
      },
      "execution_count": 219,
      "outputs": [
        {
          "output_type": "execute_result",
          "data": {
            "text/plain": [
              "5"
            ]
          },
          "metadata": {},
          "execution_count": 219
        }
      ]
    },
    {
      "cell_type": "code",
      "source": [
        "import matplotlib.pyplot as plt\n",
        "\n",
        "def traza_curvas(series, colores, nombres):\n",
        "    ''' Traza varias curvas a partir de varias series de puntos\n",
        "\n",
        "    Además de la serie de puntos, se toma como entrada una serie de\n",
        "    etiquetas y una serie de colores. Se debe comprobar que las tres\n",
        "    series tienen el mismo número de elementos.\n",
        "    Puede ser de utilidad la función 'built-in' zip\n",
        "    '''\n",
        "    if len(series) != len(colores) or len(series) != len(nombres):\n",
        "        raise ValueError(\"Las tres series deben tener el mismo tamaño\")\n",
        "    for serie, color, nombre in zip(series, colores, nombres):\n",
        "        plt.plot(serie, label=nombre, color=color)\n",
        "\n",
        "        # Añadir etiquetas a cada punto de la serie\n",
        "        for i, txt in enumerate(serie):\n",
        "            plt.annotate(round(txt,1), (i, txt),\n",
        "                         textcoords=\"offset points\",\n",
        "                         xytext=(0, 3), ha='center', fontsize=6)\n",
        "\n",
        "    plt.legend()\n",
        "    plt.xlabel('Procesadores')\n",
        "    plt.ylabel('Speed Up Absoluto')\n",
        "    # plt.ylim(0.1, 4.5)\n",
        "    plt.title('Speed Up Absoluto (t1/tn) - 8 Procesadores - Fila')\n",
        "    plt.show()\n",
        "\n",
        "# Test de la función traza_curvas\n",
        "colores = ['blue', 'red', 'orange', 'grey','black']\n",
        "nombres = base_MP_groupby['dimension_matriz'].unique().tolist()\n",
        "\n",
        "traza_curvas(lista_microseg_size, colores, nombres)"
      ],
      "metadata": {
        "colab": {
          "base_uri": "https://localhost:8080/",
          "height": 472
        },
        "id": "1ESRxTLsmS0a",
        "outputId": "f4319455-3783-4749-e0be-dffa74fa38df"
      },
      "execution_count": 222,
      "outputs": [
        {
          "output_type": "display_data",
          "data": {
            "text/plain": [
              "<Figure size 640x480 with 1 Axes>"
            ],
            "image/png": "[encoded data removed]"
          },
          "metadata": {}
        }
      ]
    },
    {
      "cell_type": "markdown",
      "source": [
        "# Exportar"
      ],
      "metadata": {
        "id": "kmoXegTRmTY8"
      }
    },
    {
      "cell_type": "code",
      "source": [
        "# base_MP.to_excel('Tabulación_tempos_procesadores_8CPU_Col.xlsx')"
      ],
      "metadata": {
        "id": "I7DDvp6IB524"
      },
      "execution_count": 221,
      "outputs": []
    },
    {
      "cell_type": "code",
      "source": [],
      "metadata": {
        "id": "mmt9xJhNfb1o"
      },
      "execution_count": 221,
      "outputs": []
    },
    {
      "cell_type": "code",
      "source": [],
      "metadata": {
        "id": "aOSoNu70fbrp"
      },
      "execution_count": 221,
      "outputs": []
    },
    {
      "cell_type": "code",
      "source": [],
      "metadata": {
        "id": "AtOuFz_G3kvi"
      },
      "execution_count": null,
      "outputs": []
    },
    {
      "cell_type": "code",
      "source": [],
      "metadata": {
        "id": "xw1XEd9U3ksM"
      },
      "execution_count": null,
      "outputs": []
    },
    {
      "cell_type": "code",
      "source": [],
      "metadata": {
        "id": "R8KqID_f3kpp"
      },
      "execution_count": null,
      "outputs": []
    },
    {
      "cell_type": "code",
      "source": [],
      "metadata": {
        "id": "SxZcxSsiB4hG"
      },
      "execution_count": 221,
      "outputs": []
    }
  ]
}